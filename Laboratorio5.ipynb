{
  "nbformat": 4,
  "nbformat_minor": 0,
  "metadata": {
    "colab": {
      "provenance": []
    },
    "kernelspec": {
      "name": "python3",
      "display_name": "Python 3"
    },
    "language_info": {
      "name": "python"
    }
  },
  "cells": [
    {
      "cell_type": "markdown",
      "source": [
        "---\n",
        "### Universidad del Valle de Guatemala<br>Modelación y simulación<br>Christopher García 20541\n",
        "---"
      ],
      "metadata": {
        "id": "x0PPoOeX6anl"
      }
    },
    {
      "cell_type": "code",
      "source": [
        "import random\n",
        "import matplotlib.pyplot as plt\n",
        "from matplotlib.animation import FuncAnimation"
      ],
      "metadata": {
        "id": "DQtFARg46xgt"
      },
      "execution_count": 1,
      "outputs": []
    },
    {
      "cell_type": "markdown",
      "source": [
        "Si se utilizó chatGPT para la generación y arreglos en el código. El proceso fue el siguiente:\n",
        "- Descripción del problema\n",
        "- Cosas puntuales que necesitaba (como que se mostrara la simulación con matplotlib, que tuviera ciertas características, etc.)\n",
        "- Entre cada iteración del código iba pidiendo optimizaciones al código para que pudiera entenderlo por completo y también pudiera reflejar lo solicitado.\n",
        "- Si tenía alguna duda y veía que no colaboraba le pedía una explicación teórica e iba implementando las cosas manualmente."
      ],
      "metadata": {
        "id": "v9ju6vsk7nQf"
      }
    },
    {
      "cell_type": "markdown",
      "source": [
        "---\n",
        "## Ejercicio#1\n",
        "---"
      ],
      "metadata": {
        "id": "a-BOjxUJ6mSW"
      }
    },
    {
      "cell_type": "code",
      "execution_count": 2,
      "metadata": {
        "colab": {
          "base_uri": "https://localhost:8080/",
          "height": 435
        },
        "id": "O-Cm1Gza6Trd",
        "outputId": "414c8364-823c-4cae-e786-bbdeda6fa5fa"
      },
      "outputs": [
        {
          "output_type": "display_data",
          "data": {
            "text/plain": [
              "<Figure size 640x480 with 1 Axes>"
            ],
            "image/png": "[encoded data removed]"
          },
          "metadata": {}
        }
      ],
      "source": [
        "# Definición de la clase Agent para representar tanto depredadores como presas.\n",
        "class Agent:\n",
        "    def __init__(self, x, y):\n",
        "        self.x = x\n",
        "        self.y = y\n",
        "\n",
        "    def move(self):\n",
        "        # Implementa el movimiento básico de un agente.\n",
        "        self.x += random.uniform(-1, 1)\n",
        "        self.y += random.uniform(-1, 1)\n",
        "\n",
        "# Definición de la clase Predator (Depredador) con subclases para diferentes tipos de depredadores.\n",
        "class Predator(Agent):\n",
        "    def __init__(self, x, y, behavior):\n",
        "        super().__init__(x, y)\n",
        "        self.behavior = behavior\n",
        "\n",
        "    def move(self, preys):\n",
        "        # Implementa el movimiento del depredador según su comportamiento.\n",
        "        if self.behavior == \"cazador\":\n",
        "            # El cazador persigue a la presa más cercana.\n",
        "            if preys:\n",
        "                closest_prey = min(preys, key=lambda prey: ((prey.x - self.x) ** 2 + (prey.y - self.y) ** 2) ** 0.5)\n",
        "                self.x += (closest_prey.x - self.x) / 10\n",
        "                self.y += (closest_prey.y - self.y) / 10\n",
        "        elif self.behavior == \"emboscador\":\n",
        "            # El depredador emboscador se queda en su posición y espera a su presa.\n",
        "            pass\n",
        "\n",
        "# Función para simular la interacción entre depredadores y presas.\n",
        "def simulate(num_predators, num_preys, num_obstacles, num_steps):\n",
        "    predators = [Predator(random.uniform(0, 10), random.uniform(0, 5), random.choice([\"cazador\", \"emboscador\"])) for _ in range(num_predators)]\n",
        "    preys = [Agent(random.uniform(0, 10), random.uniform(0, 10)) for _ in range(num_preys)]\n",
        "    obstacles = [(random.uniform(0, 10), random.uniform(0, 10)) for _ in range(num_obstacles)]\n",
        "\n",
        "    fig, ax = plt.subplots()\n",
        "\n",
        "    def update(frame):\n",
        "        nonlocal preys\n",
        "        if not preys:\n",
        "            ani.event_source.stop()\n",
        "            plt.close()\n",
        "            return\n",
        "\n",
        "        for predator in predators:\n",
        "            predator.move(preys)\n",
        "        for prey in preys:\n",
        "            prey.move()\n",
        "\n",
        "        # Lógica para detectar y manejar interacciones entre depredadores y presas.\n",
        "        for predator in predators:\n",
        "            for prey in preys:\n",
        "                if ((prey.x - predator.x) ** 2 + (prey.y - predator.y) ** 2) ** 0.5 < 0.5:\n",
        "                    preys.remove(prey)\n",
        "\n",
        "        ax.clear()\n",
        "        for predator in predators:\n",
        "            ax.scatter(predator.x, predator.y, c=\"red\", label=\"Predator\")\n",
        "        for prey in preys:\n",
        "            ax.scatter(prey.x, prey.y, c=\"blue\", label=\"Prey\")\n",
        "        for obstacle in obstacles:\n",
        "            ax.scatter(obstacle[0], obstacle[1], c=\"gray\", marker=\"X\")\n",
        "\n",
        "        ax.set_xlabel(\"X-axis\")\n",
        "        ax.set_ylabel(\"Y-axis\")\n",
        "        ax.set_xlim(0, 10)\n",
        "        ax.set_ylim(0, 10)\n",
        "\n",
        "    ani = FuncAnimation(fig, update, frames=num_steps, repeat=False, interval=100)\n",
        "    plt.show()\n",
        "\n",
        "# Simulación con 100 pasos, 2 depredadores, 5 presas y 3 obstáculos.\n",
        "simulate(num_predators=3, num_preys=15, num_obstacles=3, num_steps=200)"
      ]
    },
    {
      "cell_type": "markdown",
      "source": [
        "¿Qué comportamientos puede observar en los depredadores?\n",
        "- En esta simulación, hemos modelado dos tipos de comportamientos para los depredadores: \"cazadores\" y \"emboscadores\".\n",
        "- Los cazadores persiguen activamente a sus presas, mientras que los emboscadores permanecen en su posición y esperan a sus presas.\n",
        "\n",
        "¿Cómo mejoraría este modelo?\n",
        "- Agregar más tipos de depredadores con comportamientos únicos.\n",
        "- Implementar una lógica más sofisticada para las interacciones entre depredadores y presas, como la detección de proximidad y estrategias de caza.\n",
        "- Incluir una representación más realista de obstáculos y cómo afectan los movimientos de los agentes.\n",
        "- Utilizar una biblioteca de visualización más avanzada para crear una simulación más atractiva y comprensible.\n",
        "- Experimentar con diferentes parámetros y reglas para observar cómo afectan el resultado de la simulación."
      ],
      "metadata": {
        "id": "x5PNGY557C6W"
      }
    },
    {
      "cell_type": "markdown",
      "source": [
        "---\n",
        "## Ejercicio#2\n",
        "---"
      ],
      "metadata": {
        "id": "kjUgv_-S62ri"
      }
    },
    {
      "cell_type": "code",
      "source": [
        "# Definición de la clase Vehicle para representar diferentes tipos de vehículos.\n",
        "class Vehicle:\n",
        "    def __init__(self, lane, speed, behavior):\n",
        "        self.lane = lane\n",
        "        self.speed = speed\n",
        "        self.behavior = behavior\n",
        "        self.position = random.uniform(0, 10)  # Posición inicial aleatoria en la carretera\n",
        "\n",
        "    def move(self):\n",
        "        # Implementa el movimiento básico de un vehículo.\n",
        "        self.position += self.speed\n",
        "        self.change_lane()  # Llamamos a la función de cambio de carril en cada actualización\n",
        "\n",
        "    def change_lane(self):\n",
        "        # Implementa el cambio de carril del vehículo (puede ser sobrescrito en subclases).\n",
        "        pass\n",
        "\n",
        "# Subclase de Vehicle para vehículos agresivos que cambian de carril con frecuencia.\n",
        "class AggressiveVehicle(Vehicle):\n",
        "    def change_lane(self):\n",
        "        # Los vehículos agresivos cambian de carril con mayor frecuencia.\n",
        "        if random.random() < 0.2:  # Probabilidad de cambiar de carril: 20%\n",
        "            self.lane = random.randint(0, 2)  # Cambia de carril entre 0, 1 o 2\n",
        "\n",
        "# Subclase de Vehicle para vehículos cautelosos que mantienen una distancia segura.\n",
        "class CautiousVehicle(Vehicle):\n",
        "    def change_lane(self):\n",
        "        # Los vehículos cautelosos cambian de carril con menor frecuencia.\n",
        "        if random.random() < 0.1:  # Probabilidad de cambiar de carril: 10%\n",
        "            self.lane = random.randint(0, 2)  # Cambia de carril entre 0, 1 o 2\n",
        "\n",
        "# Función para simular el flujo de tráfico con múltiples carriles y cerrar cuando no haya vehículos en pantalla.\n",
        "def simulate(num_vehicles, num_lanes, num_steps):\n",
        "    vehicles = [None] * num_vehicles\n",
        "\n",
        "    # Inicializa vehículos con diferentes comportamientos y carriles.\n",
        "    for i in range(num_vehicles):\n",
        "        lane = random.randint(0, num_lanes - 1)  # Carril aleatorio entre 0 y num_lanes-1\n",
        "        speed = random.uniform(0.5, 2.0)  # Velocidad aleatoria\n",
        "        behavior = random.choice([AggressiveVehicle, CautiousVehicle])  # Comportamiento aleatorio\n",
        "        vehicles[i] = behavior(lane, speed, behavior)\n",
        "\n",
        "    fig, ax = plt.subplots()\n",
        "\n",
        "    def update(frame):\n",
        "        for vehicle in vehicles:\n",
        "            vehicle.move()\n",
        "\n",
        "        ax.clear()\n",
        "        for vehicle in vehicles:\n",
        "            ax.scatter(vehicle.position, vehicle.lane, c=\"blue\" if isinstance(vehicle, CautiousVehicle) else \"red\", marker=\">\")\n",
        "\n",
        "        ax.set_xlabel(\"Posición\")\n",
        "        ax.set_ylabel(\"Carril\")\n",
        "        ax.set_xlim(0, 10)\n",
        "        ax.set_ylim(-0.5, num_lanes - 0.5)\n",
        "        ax.set_yticks(range(num_lanes))\n",
        "        ax.set_yticklabels([f\"Carril {i}\" for i in range(num_lanes)])\n",
        "        plt.pause(0.5)  # Hacemos la simulación más lenta\n",
        "        plt.draw()\n",
        "\n",
        "        # Verificar si todos los vehículos han llegado al final de la carretera y cerrar si es el caso.\n",
        "        if all(vehicle.position >= 10 for vehicle in vehicles):\n",
        "            plt.close(fig)\n",
        "\n",
        "    ani = FuncAnimation(fig, update, frames=num_steps, repeat=False, interval=100)\n",
        "    plt.show()\n",
        "\n",
        "# Simulación con 30 vehículos, 4 carriles y 100 pasos.\n",
        "simulate(num_vehicles=30, num_lanes=4, num_steps=100)"
      ],
      "metadata": {
        "colab": {
          "base_uri": "https://localhost:8080/",
          "height": 490
        },
        "id": "4DazMH6165q1",
        "outputId": "f1405bb7-995f-4c52-a602-8607a6d9449e"
      },
      "execution_count": 3,
      "outputs": [
        {
          "output_type": "display_data",
          "data": {
            "text/plain": [
              "<Figure size 640x480 with 1 Axes>"
            ],
            "image/png": "[encoded data removed]"
          },
          "metadata": {}
        },
        {
          "output_type": "stream",
          "name": "stderr",
          "text": [
            "/usr/local/lib/python3.10/dist-packages/matplotlib/animation.py:884: UserWarning: Animation was deleted without rendering anything. This is most likely not intended. To prevent deletion, assign the Animation to a variable, e.g. `anim`, that exists until you output the Animation using `plt.show()` or `anim.save()`.\n",
            "  warnings.warn(\n"
          ]
        }
      ]
    },
    {
      "cell_type": "markdown",
      "source": [
        "¿Qué comportamientos puede observar en los diferentes tipos de comportamiento de manejo de vehículos?\n",
        "- Vehículos agresivos: Cambian de carril con frecuencia, a menudo intentando adelantar a otros vehículos y superarlos.\n",
        "- Vehículos cautelosos: Cambian de carril con menos frecuencia y mantienen una distancia segura con respecto a otros vehículos.\n",
        "\n",
        "¿Cómo mejoraría este modelo?\n",
        "- Agregando más comportamientos de manejo de vehículos y ajustando sus parámetros.\n",
        "- Introducir condiciones de tráfico más realistas, como la congestión y las interacciones con semáforos y señales de tráfico.\n",
        "- Considerar factores ambientales como el clima y su influencia en la velocidad y la visibilidad de los vehículos.\n",
        "- Implementar una lógica más avanzada para el cambio de carril, considerando la velocidad y la posición de otros vehículos.\n",
        "- Agregar más detalles de visualización, como gráficos de velocidad y distancia entre vehículos."
      ],
      "metadata": {
        "id": "5GxoV45C7LGk"
      }
    },
    {
      "cell_type": "markdown",
      "source": [
        "---\n",
        "## Ejercicio#3\n",
        "---"
      ],
      "metadata": {
        "id": "ZIcioZa563ql"
      }
    },
    {
      "cell_type": "code",
      "source": [
        "# Definición de la clase Buyer para representar diferentes segmentos de compradores.\n",
        "class Buyer:\n",
        "    def __init__(self, buyer_id, preference):\n",
        "        self.buyer_id = buyer_id  # Identificador único para cada comprador\n",
        "        self.preference = preference\n",
        "        self.budget = random.uniform(50, 150)  # Presupuesto inicial aleatorio\n",
        "        self.price_sensitivity = random.uniform(0.1, 0.7)  # Sensibilidad al precio aleatoria\n",
        "        self.price = 0  # Precio actual\n",
        "\n",
        "    def purchase(self):\n",
        "        # Decide si comprar o no en función de la diferencia entre el precio y la preferencia.\n",
        "        willingness_to_pay = self.preference * (1 - self.price_sensitivity)\n",
        "        if self.price <= willingness_to_pay and self.budget >= self.price:\n",
        "            self.budget -= self.price\n",
        "            return True\n",
        "        else:\n",
        "            return False\n",
        "\n",
        "    def update_price(self, market_demand, market_supply):\n",
        "        # Ajusta el precio en función de la oferta y la demanda.\n",
        "        excess_demand = market_demand - market_supply\n",
        "        if excess_demand > 0:\n",
        "            # Aumentar el precio si la demanda supera la oferta.\n",
        "            self.price += random.uniform(1, 5)  # Incremento aleatorio\n",
        "        elif excess_demand < 0:\n",
        "            # Reducir el precio si la oferta supera la demanda.\n",
        "            self.price -= random.uniform(1, 5)  # Decremento aleatorio\n",
        "            if self.price < 0:\n",
        "                self.price = 0  # Evitar precios negativos\n",
        "\n",
        "# Subclase de Buyer para compradores de lujo.\n",
        "class LuxuryBuyer(Buyer):\n",
        "    def __init__(self, buyer_id):\n",
        "\n",
        "        super().__init__(buyer_id, preference=random.uniform(0.7, 1.0))  # Preferencia alta\n",
        "\n",
        "# Subclase de Buyer para compradores de presupuesto.\n",
        "class BudgetBuyer(Buyer):\n",
        "    def __init__(self, buyer_id):\n",
        "        super().__init__(buyer_id, preference=random.uniform(0.1, 0.4))  # Preferencia baja\n",
        "\n",
        "# Función para simular el mercado con múltiples compradores.\n",
        "def simulate(num_buyers, num_steps):\n",
        "    luxury_buyers = [LuxuryBuyer(i) for i in range(num_buyers // 2)]\n",
        "    budget_buyers = [BudgetBuyer(i) for i in range(num_buyers // 2)]\n",
        "\n",
        "    fig, ax = plt.subplots()\n",
        "\n",
        "    market_prices = []  # Lista para registrar los precios en cada paso\n",
        "\n",
        "    def update(frame):\n",
        "        market_demand = sum(buyer.preference for buyer in luxury_buyers + budget_buyers)\n",
        "        market_supply = random.uniform(0.8 * market_demand, 1.2 * market_demand)\n",
        "\n",
        "        for buyer in luxury_buyers + budget_buyers:\n",
        "            buyer.update_price(market_demand, market_supply)\n",
        "            if buyer.purchase():\n",
        "                market_prices.append((buyer.buyer_id, buyer.price))  # Registra el identificador y el precio\n",
        "\n",
        "        ax.clear()\n",
        "        prices = [price for _, price in market_prices]  # Extrae los precios\n",
        "        ax.hist(prices, bins=20, color='skyblue', edgecolor='black')\n",
        "        ax.set_xlabel(\"Precio\")\n",
        "        ax.set_ylabel(\"Cantidad de Compras\")\n",
        "        ax.set_title(f\"Paso de Simulación: {frame}\")\n",
        "\n",
        "    ani = FuncAnimation(fig, update, frames=num_steps, repeat=False, interval=500)\n",
        "    plt.show()\n",
        "\n",
        "# Simulación con 100 compradores y 50 pasos.\n",
        "simulate(num_buyers=100, num_steps=50)"
      ],
      "metadata": {
        "colab": {
          "base_uri": "https://localhost:8080/",
          "height": 435
        },
        "id": "YP1TXpcj653k",
        "outputId": "611d64de-59de-4e42-ec0d-e8f738822d5c"
      },
      "execution_count": 4,
      "outputs": [
        {
          "output_type": "display_data",
          "data": {
            "text/plain": [
              "<Figure size 640x480 with 1 Axes>"
            ],
            "image/png": "[encoded data removed]"
          },
          "metadata": {}
        }
      ]
    },
    {
      "cell_type": "markdown",
      "source": [
        "¿Qué comportamientos puede observar en los diferentes tipos de preferencias y estrategias?\n",
        "- Compradores de Lujo (preferencia alta): Compran productos a precios más altos y son menos sensibles a las fluctuaciones de precios.\n",
        "- Compradores de Presupuesto (preferencia baja): Son más selectivos y solo compran productos cuando los precios son bajos y se ajustan a sus preferencias.\n",
        "- Estrategias de Precios Dinámicos: Los precios aumentan cuando la demanda supera la oferta y disminuyen cuando ocurre lo contrario.\n",
        "\n",
        "¿Cómo mejoraría este modelo?\n",
        "- Segmentación más detallada: Agregar más segmentos de compradores con diferentes preferencias y estrategias.\n",
        "- Interacción entre compradores y vendedores: Incluir vendedores que ajusten sus precios en respuesta a la demanda y la competencia.\n",
        "- Consideración de la reputación: Introducir la reputación como factor que influye en las decisiones de compra.\n",
        "- Visualización más detallada: Incluir gráficos adicionales que muestren la evolución de los precios y la oferta y la demanda.\n",
        "- Optimización de parámetros: Ajustar los parámetros del modelo para obtener resultados más realistas.\n",
        "- Análisis de resultados: Implementar métricas de evaluación y análisis para una comprensión más profunda de los efectos en el mercado."
      ],
      "metadata": {
        "id": "jnAgOrUr7SwH"
      }
    }
  ]
}